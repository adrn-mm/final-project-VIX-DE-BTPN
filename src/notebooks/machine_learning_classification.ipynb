{
 "cells": [
  {
   "cell_type": "code",
   "execution_count": 1,
   "metadata": {},
   "outputs": [],
   "source": [
    "import pandas as pd"
   ]
  },
  {
   "cell_type": "code",
   "execution_count": 19,
   "metadata": {},
   "outputs": [],
   "source": [
    "df = pd.read_csv('../../data/processed/data_warehouse.csv', delimiter=';')"
   ]
  },
  {
   "cell_type": "code",
   "execution_count": 22,
   "metadata": {},
   "outputs": [
    {
     "data": {
      "text/plain": [
       "ClientID                   0\n",
       "Status                     0\n",
       "CustomerAge                0\n",
       "Gender                     0\n",
       "DependentCount             0\n",
       "Education                  0\n",
       "MaritalStatus              0\n",
       "IncomeCategory             0\n",
       "CardCategory               0\n",
       "MonthsOnBook               0\n",
       "TotalRelationshipCount     0\n",
       "MonthsInactiveIn12Month    0\n",
       "ContactsCountIn12Month     0\n",
       "CreditLimit                0\n",
       "TotalREvolvingBalance      0\n",
       "AvgOpenToBuy               0\n",
       "TotalTransAmt              0\n",
       "TotalTransCT               0\n",
       "AvgUtilizationRatio        0\n",
       "dtype: int64"
      ]
     },
     "execution_count": 22,
     "metadata": {},
     "output_type": "execute_result"
    }
   ],
   "source": [
    "df.isnull().sum()"
   ]
  },
  {
   "cell_type": "code",
   "execution_count": 21,
   "metadata": {},
   "outputs": [],
   "source": [
    "df['ClientID'] = df['ClientID'].astype('int')\n",
    "df['DependentCount'] = df['DependentCount'].astype('int')"
   ]
  },
  {
   "cell_type": "code",
   "execution_count": 18,
   "metadata": {},
   "outputs": [
    {
     "data": {
      "text/html": [
       "<div>\n",
       "<style scoped>\n",
       "    .dataframe tbody tr th:only-of-type {\n",
       "        vertical-align: middle;\n",
       "    }\n",
       "\n",
       "    .dataframe tbody tr th {\n",
       "        vertical-align: top;\n",
       "    }\n",
       "\n",
       "    .dataframe thead th {\n",
       "        text-align: right;\n",
       "    }\n",
       "</style>\n",
       "<table border=\"1\" class=\"dataframe\">\n",
       "  <thead>\n",
       "    <tr style=\"text-align: right;\">\n",
       "      <th></th>\n",
       "      <th>ClientID</th>\n",
       "      <th>Status</th>\n",
       "      <th>CustomerAge</th>\n",
       "      <th>Gender</th>\n",
       "      <th>DependentCount</th>\n",
       "      <th>Education</th>\n",
       "      <th>MaritalStatus</th>\n",
       "      <th>IncomeCategory</th>\n",
       "      <th>CardCategory</th>\n",
       "      <th>MonthsOnBook</th>\n",
       "      <th>TotalRelationshipCount</th>\n",
       "      <th>MonthsInactiveIn12Month</th>\n",
       "      <th>ContactsCountIn12Month</th>\n",
       "      <th>CreditLimit</th>\n",
       "      <th>TotalRevolvingBalance</th>\n",
       "      <th>AvgOpenToBuy</th>\n",
       "      <th>TotalTransAmt</th>\n",
       "      <th>TotalTransCT</th>\n",
       "      <th>AvgUtilizationRatio</th>\n",
       "    </tr>\n",
       "  </thead>\n",
       "  <tbody>\n",
       "    <tr>\n",
       "      <th>10127</th>\n",
       "      <td>(10127 rows affected)</td>\n",
       "      <td>NaN</td>\n",
       "      <td>NaN</td>\n",
       "      <td>NaN</td>\n",
       "      <td>NaN</td>\n",
       "      <td>NaN</td>\n",
       "      <td>NaN</td>\n",
       "      <td>NaN</td>\n",
       "      <td>NaN</td>\n",
       "      <td>NaN</td>\n",
       "      <td>NaN</td>\n",
       "      <td>NaN</td>\n",
       "      <td>NaN</td>\n",
       "      <td>NaN</td>\n",
       "      <td>NaN</td>\n",
       "      <td>NaN</td>\n",
       "      <td>NaN</td>\n",
       "      <td>NaN</td>\n",
       "      <td>NaN</td>\n",
       "    </tr>\n",
       "    <tr>\n",
       "      <th>10128</th>\n",
       "      <td>Completion time: 2023-03-03T19:53:14.9877007+0...</td>\n",
       "      <td>NaN</td>\n",
       "      <td>NaN</td>\n",
       "      <td>NaN</td>\n",
       "      <td>NaN</td>\n",
       "      <td>NaN</td>\n",
       "      <td>NaN</td>\n",
       "      <td>NaN</td>\n",
       "      <td>NaN</td>\n",
       "      <td>NaN</td>\n",
       "      <td>NaN</td>\n",
       "      <td>NaN</td>\n",
       "      <td>NaN</td>\n",
       "      <td>NaN</td>\n",
       "      <td>NaN</td>\n",
       "      <td>NaN</td>\n",
       "      <td>NaN</td>\n",
       "      <td>NaN</td>\n",
       "      <td>NaN</td>\n",
       "    </tr>\n",
       "  </tbody>\n",
       "</table>\n",
       "</div>"
      ],
      "text/plain": [
       "                                                ClientID Status CustomerAge  \\\n",
       "10127                              (10127 rows affected)    NaN         NaN   \n",
       "10128  Completion time: 2023-03-03T19:53:14.9877007+0...    NaN         NaN   \n",
       "\n",
       "      Gender DependentCount Education MaritalStatus IncomeCategory  \\\n",
       "10127    NaN            NaN       NaN           NaN            NaN   \n",
       "10128    NaN            NaN       NaN           NaN            NaN   \n",
       "\n",
       "      CardCategory MonthsOnBook TotalRelationshipCount  \\\n",
       "10127          NaN          NaN                    NaN   \n",
       "10128          NaN          NaN                    NaN   \n",
       "\n",
       "      MonthsInactiveIn12Month ContactsCountIn12Month CreditLimit  \\\n",
       "10127                     NaN                    NaN         NaN   \n",
       "10128                     NaN                    NaN         NaN   \n",
       "\n",
       "      TotalRevolvingBalance AvgOpenToBuy TotalTransAmt TotalTransCT  \\\n",
       "10127                   NaN          NaN           NaN          NaN   \n",
       "10128                   NaN          NaN           NaN          NaN   \n",
       "\n",
       "      AvgUtilizationRatio  \n",
       "10127                 NaN  \n",
       "10128                 NaN  "
      ]
     },
     "execution_count": 18,
     "metadata": {},
     "output_type": "execute_result"
    }
   ],
   "source": [
    "df[df['Status'].isnull() == True]"
   ]
  },
  {
   "cell_type": "code",
   "execution_count": null,
   "metadata": {},
   "outputs": [],
   "source": []
  },
  {
   "cell_type": "code",
   "execution_count": null,
   "metadata": {},
   "outputs": [],
   "source": []
  }
 ],
 "metadata": {
  "kernelspec": {
   "display_name": ".venv",
   "language": "python",
   "name": "python3"
  },
  "language_info": {
   "codemirror_mode": {
    "name": "ipython",
    "version": 3
   },
   "file_extension": ".py",
   "mimetype": "text/x-python",
   "name": "python",
   "nbconvert_exporter": "python",
   "pygments_lexer": "ipython3",
   "version": "3.11.2"
  },
  "orig_nbformat": 4
 },
 "nbformat": 4,
 "nbformat_minor": 2
}
